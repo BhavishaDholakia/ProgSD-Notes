{
 "cells": [
  {
   "cell_type": "code",
   "execution_count": 1,
   "id": "c8cc186a-b61b-4cdb-8e0c-942ffec483fe",
   "metadata": {},
   "outputs": [
    {
     "data": {
      "text/plain": [
       "<sqlite3.Cursor at 0x1056cb0c0>"
      ]
     },
     "execution_count": 1,
     "metadata": {},
     "output_type": "execute_result"
    }
   ],
   "source": [
    "# use this cell to import, create table and Insert data\n",
    "\n",
    "# Import sqllite\n",
    "import sqlite3\n",
    "with sqlite3.connect(\"BookInfo.db\") as db:\n",
    "    cursor = db.cursor()\n",
    "\n",
    "\n",
    "# Create table Authors\n",
    "cursor.execute(\"\"\"\n",
    "CREATE TABLE IF NOT EXISTS Authors(\n",
    "Name TEXT PRIMARY KEY,\n",
    "Pob TEXT NOT NULL);\n",
    "\"\"\")\n",
    "\n",
    "#Inserting values in Authors\n",
    "cursor.execute(\n",
    "     \"\"\"INSERT INTO Authors(Name, Pob) VALUES(\"Agatha Christie\", \"Torquay\")\n",
    "    \"\"\")\n",
    "\n",
    "cursor.execute(\n",
    "     \"\"\"INSERT INTO Authors(Name, Pob) VALUES(\"J.K. Rowling\", \"Bristol\")\n",
    "    \"\"\")\n",
    "\n",
    "cursor.execute(\n",
    "     \"\"\"INSERT INTO Authors(Name, Pob) VALUES(\"Oscar Wilde\", \"Dublin\")\n",
    "    \"\"\")\n",
    "\n",
    "# commiting\n",
    "db.commit() \n",
    "\n",
    "# Create TABLE Books\n",
    "cursor.execute(\"\"\"\n",
    "CREATE TABLE IF NOT EXISTS Books(\n",
    "ID Integer PRIMARY KEY,\n",
    "Title TEXT NOT NULL,\n",
    "Author TEXT NOT NULL,\n",
    "Data_Published Integer);\n",
    "\"\"\")\n",
    "\n",
    "#Inserting values in Authors\n",
    "cursor.execute(\n",
    "     \"\"\"INSERT INTO Books(ID, Title, Author, Data_Published) VALUES(1, \"De Profundis\", \"Oscar Wilde\", 1905)\n",
    "    \"\"\")\n",
    "\n",
    "cursor.execute(\n",
    "     \"\"\"INSERT INTO Books(ID, Title, Author, Data_Published) VALUES(2, \"Harry Potter and the chamber of secrets\", \"J.K. Rowling\", 1998)\n",
    "    \"\"\")\n",
    "\n",
    "cursor.execute(\n",
    "     \"\"\"INSERT INTO Books(ID, Title, Author, Data_Published) VALUES(3, \"The seven dials mystery\", \"Agatha Christie\", 1929)\n",
    "    \"\"\")\n",
    "\n",
    "cursor.execute(\n",
    "     \"\"\"INSERT INTO Books(ID, Title, Author, Data_Published) VALUES(4, \"The picture of Dorian Gray\", \"Oscar Wilde\", 1890)\n",
    "    \"\"\")\n",
    "\n",
    "cursor.execute(\n",
    "     \"\"\"INSERT INTO Books(ID, Title, Author, Data_Published) VALUES(5, \"Murder on the Orient Express\", \"Agatha Christie\", 1934)\n",
    "    \"\"\")\n",
    "\n",
    "cursor.execute(\n",
    "     \"\"\"INSERT INTO Books(ID, Title, Author, Data_Published) VALUES(6, \"Harry Potter and the prisoner of Azkaban\", \"J.K. Rowling\", 1999)\n",
    "    \"\"\")\n",
    "\n",
    "# commiting\n",
    "db.commit() \n"
   ]
  },
  {
   "cell_type": "code",
   "execution_count": 52,
   "id": "4c20318c-4949-4f96-9a04-4cc2a8d4c7e5",
   "metadata": {},
   "outputs": [
    {
     "name": "stdin",
     "output_type": "stream",
     "text": [
      "Enter the palce of birth:  Bristol\n"
     ]
    },
    {
     "name": "stdout",
     "output_type": "stream",
     "text": [
      "('J.K. Rowling', 'Bristol', 2, 'Harry Potter and the chamber of secrets', 'J.K. Rowling', 1998)\n",
      "('J.K. Rowling', 'Bristol', 6, 'Harry Potter and the prisoner of Azkaban', 'J.K. Rowling', 1999)\n"
     ]
    }
   ],
   "source": [
    "# JOIN\n",
    "\n",
    "BirthPlace = input(\"Enter the palce of birth: \")\n",
    "\n",
    "cursor.execute(\"\"\" SELECT * FROM Authors, Books WHERE Authors.Name = Books.Author And Authors.Pob = ?\"\"\", [BirthPlace])\n",
    "\n",
    "for x in cursor.fetchall():\n",
    "    print(x)\n"
   ]
  },
  {
   "cell_type": "code",
   "execution_count": 48,
   "id": "c3581dd6-35a8-4e25-8d89-f5a1777611eb",
   "metadata": {},
   "outputs": [
    {
     "name": "stdin",
     "output_type": "stream",
     "text": [
      "Enter a year:  1920\n"
     ]
    },
    {
     "name": "stdout",
     "output_type": "stream",
     "text": [
      "('The seven dials mystery',)\n",
      "('Murder on the Orient Express',)\n",
      "('Harry Potter and the chamber of secrets',)\n",
      "('Harry Potter and the prisoner of Azkaban',)\n"
     ]
    }
   ],
   "source": [
    "# Select filter choice based on the user input with sorting\n",
    "\n",
    "PublishedYear = int(input(\"Enter a year: \"))\n",
    "\n",
    "cursor.execute(\"\"\" SELECT Title FROM Books WHERE Data_Published > ? order by Data_Published \"\"\", [PublishedYear])\n",
    "\n",
    "for x in cursor.fetchall():\n",
    "    print(x)\n"
   ]
  },
  {
   "cell_type": "code",
   "execution_count": 70,
   "id": "33241415-d87c-4146-ba40-c50841d41047",
   "metadata": {},
   "outputs": [
    {
     "name": "stdin",
     "output_type": "stream",
     "text": [
      "Enter a Author's name:  J.K. Rowling\n"
     ]
    },
    {
     "name": "stdout",
     "output_type": "stream",
     "text": [
      "\n",
      "2 - Harry Potter and the chamber of secrets - J.K. Rowling - 1998\n",
      "6 - Harry Potter and the prisoner of Azkaban - J.K. Rowling - 1999\n",
      "\n"
     ]
    }
   ],
   "source": [
    "# Loading in a file from a Database. \n",
    "# In this case we had a particular format to display the data. If we don't have any format dire\n",
    "\n",
    "\n",
    "import numpy as np\n",
    "Author_name = input(\"Enter a Author's name: \")\n",
    "\n",
    "# cursor.execute(\"\"\" SELECT Title FROM Books WHERE Author = ? \"\"\", [Author_name])\n",
    "# Book_by_Authors = cursor.fetchall()\n",
    "\n",
    "# np.savetxt('Booklist.txt',Book_by_Authors, fmt = \"%s\")\n",
    "\n",
    "cursor.execute(\"\"\"SELECT ID, Title, Author, Data_Published FROM Books WHERE Author = ?\"\"\", [Author_name])\n",
    "Book_by_Authors = cursor.fetchall()\n",
    "\n",
    "# Check if any books were found\n",
    "if Book_by_Authors:\n",
    "    with open(\"Booklist.txt\", \"w\") as file:\n",
    "        #file.write(\"This file contains the following record(s):\\n\")\n",
    "        for record in Book_by_Authors:\n",
    "            # Format: ID - Title - Author - DatePublished\n",
    "            formatted_line = f\"{record[0]} - {record[1]} - {record[2]} - {record[3]}\\n\"\n",
    "            file.write(formatted_line)\n",
    "    \n",
    "    # Display the content of the file\n",
    "    with open(\"Booklist.txt\", \"r\") as file:\n",
    "        print(\"\\n\" + file.read())\n",
    "else:\n",
    "    print(f\"No books found for author {Author_name}.\")\n",
    "\n",
    "# db.close()"
   ]
  },
  {
   "cell_type": "code",
   "execution_count": 74,
   "id": "c507384c-e605-4821-8e3c-807c13f701c5",
   "metadata": {},
   "outputs": [
    {
     "name": "stdin",
     "output_type": "stream",
     "text": [
      "Enter name:  Rithik\n",
      "Enter Published Date:  1999\n"
     ]
    }
   ],
   "source": [
    "#Insert data on user's choice\n",
    "\n",
    "newName = input(\"Enter name: \")\n",
    "newPublishedDate = input(\"Enter Published Date: \")\n",
    "\n",
    "cursor.execute(\"\"\"INSERT INTO Authors(Name, Pob)  \n",
    "  VALUES(?, ?)\"\"\", (newName, newPublishedDate)) \n",
    "\n",
    "db.commit()"
   ]
  },
  {
   "cell_type": "code",
   "execution_count": 76,
   "id": "33257307-e811-4658-aea8-c06a0fcc6305",
   "metadata": {},
   "outputs": [
    {
     "name": "stdout",
     "output_type": "stream",
     "text": [
      "[('Agatha Christie', 'Torquay'), ('J.K. Rowling', 'Bristol'), ('Oscar Wilde', 'Dublin'), ('Rithik', '1999')]\n"
     ]
    }
   ],
   "source": [
    "# Basic Select command to check the data \n",
    "\n",
    "cursor.execute(\"SELECT * FROM Authors\")\n",
    "print(cursor.fetchall())"
   ]
  },
  {
   "cell_type": "code",
   "execution_count": 29,
   "id": "203aee9e-1633-48c9-b8a8-cf45ecfe0974",
   "metadata": {},
   "outputs": [
    {
     "name": "stdout",
     "output_type": "stream",
     "text": [
      "[(0, 'Name', 'TEXT', 0, None, 1), (1, 'Pob', 'TEXT', 1, None, 0)]\n"
     ]
    }
   ],
   "source": [
    "# Run this to get the table information\n",
    "\n",
    "cursor.execute(\"PRAGMA table_info(Authors);\")\n",
    "print(cursor.fetchall())"
   ]
  },
  {
   "cell_type": "code",
   "execution_count": null,
   "id": "850e3c28-75c7-41c5-8734-e395e3528517",
   "metadata": {},
   "outputs": [],
   "source": [
    "\n",
    "\n",
    "\n",
    "LET's Do a Phonebook Problem\n",
    "\n",
    "\n"
   ]
  },
  {
   "cell_type": "code",
   "execution_count": 5,
   "id": "9e7139ec-6419-4370-b2e2-8e5059b518e0",
   "metadata": {},
   "outputs": [
    {
     "ename": "OperationalError",
     "evalue": "table Names already exists",
     "output_type": "error",
     "traceback": [
      "\u001b[0;31m---------------------------------------------------------------------------\u001b[0m",
      "\u001b[0;31mOperationalError\u001b[0m                          Traceback (most recent call last)",
      "Cell \u001b[0;32mIn[5], line 8\u001b[0m\n\u001b[1;32m      5\u001b[0m     cursor \u001b[38;5;241m=\u001b[39m db\u001b[38;5;241m.\u001b[39mcursor()\n\u001b[1;32m      7\u001b[0m \u001b[38;5;66;03m# Create a table called Names with four fields\u001b[39;00m\n\u001b[0;32m----> 8\u001b[0m cursor\u001b[38;5;241m.\u001b[39mexecute(\u001b[38;5;124m\"\"\"\u001b[39m\u001b[38;5;124mCREATE TABLE Names(\u001b[39m\n\u001b[1;32m      9\u001b[0m \u001b[38;5;124m    id integer PRIMARY KEY,\u001b[39m\n\u001b[1;32m     10\u001b[0m \u001b[38;5;124m    firstname text,\u001b[39m\n\u001b[1;32m     11\u001b[0m \u001b[38;5;124m    surname text,\u001b[39m\n\u001b[1;32m     12\u001b[0m \u001b[38;5;124m    phonenumber text);\u001b[39m\u001b[38;5;124m\"\"\"\u001b[39m)\n\u001b[1;32m     14\u001b[0m \u001b[38;5;66;03m# Insert data into the table\u001b[39;00m\n\u001b[1;32m     15\u001b[0m cursor\u001b[38;5;241m.\u001b[39mexecute(\u001b[38;5;124m\"\"\"\u001b[39m\u001b[38;5;124mINSERT INTO Names(id, firstname, surname, phonenumber)\u001b[39m\n\u001b[1;32m     16\u001b[0m \u001b[38;5;124mVALUES (\u001b[39m\u001b[38;5;124m\"\u001b[39m\u001b[38;5;124m60\u001b[39m\u001b[38;5;124m\"\u001b[39m\u001b[38;5;124m, \u001b[39m\u001b[38;5;124m\"\u001b[39m\u001b[38;5;124mSimon\u001b[39m\u001b[38;5;124m\"\u001b[39m\u001b[38;5;124m, \u001b[39m\u001b[38;5;124m\"\u001b[39m\u001b[38;5;124mPierre\u001b[39m\u001b[38;5;124m\"\u001b[39m\u001b[38;5;124m, \u001b[39m\u001b[38;5;124m\"\u001b[39m\u001b[38;5;124m0142678 9056\u001b[39m\u001b[38;5;124m\"\u001b[39m\u001b[38;5;124m)\u001b[39m\u001b[38;5;124m\"\"\"\u001b[39m)\n",
      "\u001b[0;31mOperationalError\u001b[0m: table Names already exists"
     ]
    }
   ],
   "source": [
    "import sqlite3\n",
    "\n",
    "# Connect/Create database called PhoneBook\n",
    "with sqlite3.connect(\"PhoneBook1.db\") as db:\n",
    "    cursor = db.cursor()\n",
    "\n",
    "# Create a table called Names with four fields\n",
    "cursor.execute(\"\"\"CREATE TABLE IF NOT EXISTS Names(\n",
    "    id integer PRIMARY KEY,\n",
    "    firstname text,\n",
    "    surname text,\n",
    "    phonenumber text);\"\"\")\n",
    "\n",
    "# Insert data into the table\n",
    "cursor.execute(\"\"\"INSERT INTO Names(id, firstname, surname, phonenumber)\n",
    "VALUES (\"60\", \"Simon\", \"Pierre\", \"0142678 9056\")\"\"\")\n",
    "db.commit()  # Saves the changes\n",
    "\n",
    "# Insert data into the table Names\n",
    "cursor.execute(\"\"\"INSERT INTO Names(id, firstname, surname, phonenumber)\n",
    "VALUES (\"70\", \"Katarina\", \"Iglesias\", \"0203456 7078\")\"\"\")\n",
    "db.commit()  # Saves the changes\n",
    "\n",
    "# Insert data into the table called Names\n",
    "cursor.execute(\"\"\"INSERT INTO Names(id, firstname, surname, phonenumber)\n",
    "VALUES (\"30\", \"Derrick\", \"Brown\", \"0122345 8765\")\"\"\")\n",
    "db.commit()  # Saves the changes\n",
    "\n",
    "# Insert data into a table called Names\n",
    "cursor.execute(\"\"\"INSERT INTO Names(id, firstname, surname, phonenumber)\n",
    "VALUES (\"40\", \"John\", \"Smith\", \"0112653 2312\")\"\"\")\n",
    "db.commit()  # Saves the changes\n",
    "\n",
    "# Insert data into a table called Names\n",
    "cursor.execute(\"\"\"INSERT INTO Names(id, firstname, surname, phonenumber)\n",
    "VALUES (\"50\", \"Mark\", \"Isaac\", \"0141657 1383\")\"\"\")\n",
    "db.commit()  # Saves the changes\n",
    "\n",
    "#db.close()  # Close the database\n"
   ]
  },
  {
   "cell_type": "code",
   "execution_count": 7,
   "id": "5aa2ff5c-d9d6-463d-a5ec-ccbae20092c2",
   "metadata": {},
   "outputs": [
    {
     "name": "stdout",
     "output_type": "stream",
     "text": [
      "[(30, 'Derrick', 'Brown', '0122345 8765'), (40, 'John', 'Smith', '0112653 2312'), (50, 'Mark', 'Isaac', '0141657 1383'), (60, 'Simon', 'Pierre', '0142678 9056'), (70, 'Katarina', 'Iglesias', '0203456 7078')]\n"
     ]
    }
   ],
   "source": [
    "cursor.execute(\"SELECT * FROM Names\")\n",
    "print(cursor.fetchall())"
   ]
  },
  {
   "cell_type": "code",
   "execution_count": 13,
   "id": "a83ae0cc-8100-4d8f-be67-492f47915b62",
   "metadata": {},
   "outputs": [
    {
     "name": "stdout",
     "output_type": "stream",
     "text": [
      "\n",
      "Main Menu\n",
      "\n",
      "1) View phone book\n",
      "2) Add to phone book\n",
      "3) Search for surname\n",
      "4) Delete person from phone book\n",
      "5) Quit\n",
      "\n"
     ]
    },
    {
     "name": "stdin",
     "output_type": "stream",
     "text": [
      "Enter your selection:  2\n"
     ]
    },
    {
     "name": "stdout",
     "output_type": "stream",
     "text": [
      "\n"
     ]
    },
    {
     "name": "stdin",
     "output_type": "stream",
     "text": [
      "Enter ID:  1\n",
      "Enter first name:  Rithi\n",
      "Enter surname:  S\n",
      "Enter phone number:  8949017920\n"
     ]
    },
    {
     "name": "stdout",
     "output_type": "stream",
     "text": [
      "\n",
      "Main Menu\n",
      "\n",
      "1) View phone book\n",
      "2) Add to phone book\n",
      "3) Search for surname\n",
      "4) Delete person from phone book\n",
      "5) Quit\n",
      "\n"
     ]
    },
    {
     "name": "stdin",
     "output_type": "stream",
     "text": [
      "Enter your selection:  4\n"
     ]
    },
    {
     "name": "stdout",
     "output_type": "stream",
     "text": [
      "\n"
     ]
    },
    {
     "name": "stdin",
     "output_type": "stream",
     "text": [
      "Enter ID:  1\n"
     ]
    },
    {
     "name": "stdout",
     "output_type": "stream",
     "text": [
      "(30, 'Derrick', 'Brown', '0122345 8765')\n",
      "(40, 'John', 'Smith', '0112653 2312')\n",
      "(50, 'Mark', 'Isaac', '0141657 1383')\n",
      "(60, 'Simon', 'Pierre', '0142678 9056')\n",
      "(70, 'Katarina', 'Iglesias', '0203456 7078')\n",
      "\n",
      "Main Menu\n",
      "\n",
      "1) View phone book\n",
      "2) Add to phone book\n",
      "3) Search for surname\n",
      "4) Delete person from phone book\n",
      "5) Quit\n",
      "\n"
     ]
    },
    {
     "name": "stdin",
     "output_type": "stream",
     "text": [
      "Enter your selection:  5\n"
     ]
    },
    {
     "name": "stdout",
     "output_type": "stream",
     "text": [
      "\n"
     ]
    }
   ],
   "source": [
    "# Menubook Problem\n",
    "\n",
    "\n",
    "def viewphonebook():\n",
    "    cursor.execute(\"SELECT * FROM Names\")\n",
    "    for x in cursor.fetchall():\n",
    "        print(x)\n",
    "\n",
    "def addtophonebook():\n",
    "    newid = int(input(\"Enter ID: \"))\n",
    "    newfname = input(\"Enter first name: \")\n",
    "    newsname = input(\"Enter surname: \")\n",
    "    newpnum = input(\"Enter phone number: \")\n",
    "    cursor.execute(\"\"\"INSERT INTO Names (id,firstname,surname,phonenumber) \n",
    "    VALUES (?, ?, ?, ?)\"\"\", (newid, newfname, newsname, newpnum))\n",
    "    db.commit()\n",
    "\n",
    "def selectname():\n",
    "    selectsurname = input(\"Enter a surname: \")\n",
    "    cursor.execute(\"SELECT * FROM Names WHERE surname = ?\", [selectsurname])\n",
    "    for x in cursor.fetchall():\n",
    "        print(x)\n",
    "\n",
    "def deletedata():\n",
    "    selectid = int(input(\"Enter ID: \"))\n",
    "    cursor.execute(\"DELETE FROM Names WHERE id = ?\", [selectid])\n",
    "    cursor.execute(\"SELECT * FROM Names\")\n",
    "    for x in cursor.fetchall():\n",
    "        print(x)\n",
    "    db.commit()\n",
    "\n",
    "with sqlite3.connect(\"PhoneBook1.db\") as db:\n",
    "    cursor = db.cursor()\n",
    "\n",
    "def main():\n",
    "    again = \"y\"\n",
    "    while again == \"y\":\n",
    "        print()\n",
    "        print(\"Main Menu\")\n",
    "        print()\n",
    "        print(\"1) View phone book\")\n",
    "        print(\"2) Add to phone book\")\n",
    "        print(\"3) Search for surname\")\n",
    "        print(\"4) Delete person from phone book\")\n",
    "        print(\"5) Quit\")\n",
    "        print()\n",
    "        selection = int(input(\"Enter your selection: \"))\n",
    "        print()\n",
    "\n",
    "        if selection == 1:\n",
    "            viewphonebook()\n",
    "        elif selection == 2:\n",
    "            addtophonebook()\n",
    "        elif selection == 3:\n",
    "            selectname()\n",
    "        elif selection == 4:\n",
    "            deletedata()\n",
    "        elif selection == 5:\n",
    "            again = \"n\"\n",
    "        else:\n",
    "            print(\"Incorrect selection entered\")\n",
    "\n",
    "main()\n",
    "#db.close()\n"
   ]
  },
  {
   "cell_type": "code",
   "execution_count": null,
   "id": "ca7693ac-cb92-48f1-bb9c-df7465e458bf",
   "metadata": {},
   "outputs": [],
   "source": [
    "\n",
    "\n",
    "Shopping List problem\n",
    "\n"
   ]
  },
  {
   "cell_type": "code",
   "execution_count": 133,
   "id": "70ca2630-7186-409d-a145-6cc8cf694f34",
   "metadata": {},
   "outputs": [],
   "source": [
    "# Step1: Load the dataset\n",
    "import pandas as pd\n",
    "df = pd.read_csv('shopping.csv', parse_dates=['Date'],dayfirst = True) #,dayfirst = True"
   ]
  },
  {
   "cell_type": "code",
   "execution_count": 135,
   "id": "8c14a3cb-d3c3-42ec-8ed2-ffac47ad0dc6",
   "metadata": {},
   "outputs": [
    {
     "data": {
      "text/html": [
       "<div>\n",
       "<style scoped>\n",
       "    .dataframe tbody tr th:only-of-type {\n",
       "        vertical-align: middle;\n",
       "    }\n",
       "\n",
       "    .dataframe tbody tr th {\n",
       "        vertical-align: top;\n",
       "    }\n",
       "\n",
       "    .dataframe thead th {\n",
       "        text-align: right;\n",
       "    }\n",
       "</style>\n",
       "<table border=\"1\" class=\"dataframe\">\n",
       "  <thead>\n",
       "    <tr style=\"text-align: right;\">\n",
       "      <th></th>\n",
       "      <th>Date</th>\n",
       "      <th>Product</th>\n",
       "      <th>Quantity</th>\n",
       "      <th>Price</th>\n",
       "      <th>Total</th>\n",
       "    </tr>\n",
       "  </thead>\n",
       "  <tbody>\n",
       "    <tr>\n",
       "      <th>0</th>\n",
       "      <td>2023-01-01</td>\n",
       "      <td>Apples</td>\n",
       "      <td>10</td>\n",
       "      <td>0.5</td>\n",
       "      <td>NaN</td>\n",
       "    </tr>\n",
       "    <tr>\n",
       "      <th>1</th>\n",
       "      <td>2023-01-02</td>\n",
       "      <td>Bananas</td>\n",
       "      <td>5</td>\n",
       "      <td>0.2</td>\n",
       "      <td>NaN</td>\n",
       "    </tr>\n",
       "    <tr>\n",
       "      <th>2</th>\n",
       "      <td>2023-01-03</td>\n",
       "      <td>Oranges</td>\n",
       "      <td>8</td>\n",
       "      <td>0.6</td>\n",
       "      <td>NaN</td>\n",
       "    </tr>\n",
       "    <tr>\n",
       "      <th>3</th>\n",
       "      <td>2023-02-01</td>\n",
       "      <td>Apples</td>\n",
       "      <td>12</td>\n",
       "      <td>0.5</td>\n",
       "      <td>NaN</td>\n",
       "    </tr>\n",
       "    <tr>\n",
       "      <th>4</th>\n",
       "      <td>2023-02-05</td>\n",
       "      <td>Bananas</td>\n",
       "      <td>7</td>\n",
       "      <td>0.2</td>\n",
       "      <td>NaN</td>\n",
       "    </tr>\n",
       "    <tr>\n",
       "      <th>5</th>\n",
       "      <td>2023-03-10</td>\n",
       "      <td>Apples</td>\n",
       "      <td>6</td>\n",
       "      <td>0.5</td>\n",
       "      <td>NaN</td>\n",
       "    </tr>\n",
       "    <tr>\n",
       "      <th>6</th>\n",
       "      <td>2023-03-15</td>\n",
       "      <td>Bananas</td>\n",
       "      <td>9</td>\n",
       "      <td>0.2</td>\n",
       "      <td>NaN</td>\n",
       "    </tr>\n",
       "  </tbody>\n",
       "</table>\n",
       "</div>"
      ],
      "text/plain": [
       "        Date  Product  Quantity  Price  Total\n",
       "0 2023-01-01   Apples        10    0.5    NaN\n",
       "1 2023-01-02  Bananas         5    0.2    NaN\n",
       "2 2023-01-03  Oranges         8    0.6    NaN\n",
       "3 2023-02-01   Apples        12    0.5    NaN\n",
       "4 2023-02-05  Bananas         7    0.2    NaN\n",
       "5 2023-03-10   Apples         6    0.5    NaN\n",
       "6 2023-03-15  Bananas         9    0.2    NaN"
      ]
     },
     "execution_count": 135,
     "metadata": {},
     "output_type": "execute_result"
    }
   ],
   "source": [
    "df"
   ]
  },
  {
   "cell_type": "code",
   "execution_count": 137,
   "id": "7882802b-806c-412e-b2c2-4c5d9695e36c",
   "metadata": {},
   "outputs": [
    {
     "data": {
      "text/plain": [
       "Date        0\n",
       "Product     0\n",
       "Quantity    0\n",
       "Price       0\n",
       "Total       7\n",
       "dtype: int64"
      ]
     },
     "execution_count": 137,
     "metadata": {},
     "output_type": "execute_result"
    }
   ],
   "source": [
    "# Nulls in the attributes\n",
    "df.isnull().sum()"
   ]
  },
  {
   "cell_type": "code",
   "execution_count": 139,
   "id": "b0546bba-5d90-4f1b-8cba-91ef202ffca1",
   "metadata": {},
   "outputs": [
    {
     "name": "stdout",
     "output_type": "stream",
     "text": [
      "<class 'pandas.core.frame.DataFrame'>\n",
      "RangeIndex: 7 entries, 0 to 6\n",
      "Data columns (total 5 columns):\n",
      " #   Column    Non-Null Count  Dtype         \n",
      "---  ------    --------------  -----         \n",
      " 0   Date      7 non-null      datetime64[ns]\n",
      " 1   Product   7 non-null      object        \n",
      " 2   Quantity  7 non-null      int64         \n",
      " 3   Price     7 non-null      float64       \n",
      " 4   Total     0 non-null      float64       \n",
      "dtypes: datetime64[ns](1), float64(2), int64(1), object(1)\n",
      "memory usage: 412.0+ bytes\n"
     ]
    }
   ],
   "source": [
    "# To check non null (Similar to isnull)\n",
    "df.info()"
   ]
  },
  {
   "cell_type": "code",
   "execution_count": 141,
   "id": "df4dc807-29ef-4e49-9e03-1c267c1091b5",
   "metadata": {},
   "outputs": [],
   "source": [
    "#Clean the data by handling missing values. Giving Total a default value as 0\n",
    "df.fillna({'Total':0}, inplace=True)"
   ]
  },
  {
   "cell_type": "code",
   "execution_count": 143,
   "id": "2016b507-2d2a-419e-b6a4-5ca2cce79d6e",
   "metadata": {},
   "outputs": [
    {
     "data": {
      "text/html": [
       "<div>\n",
       "<style scoped>\n",
       "    .dataframe tbody tr th:only-of-type {\n",
       "        vertical-align: middle;\n",
       "    }\n",
       "\n",
       "    .dataframe tbody tr th {\n",
       "        vertical-align: top;\n",
       "    }\n",
       "\n",
       "    .dataframe thead th {\n",
       "        text-align: right;\n",
       "    }\n",
       "</style>\n",
       "<table border=\"1\" class=\"dataframe\">\n",
       "  <thead>\n",
       "    <tr style=\"text-align: right;\">\n",
       "      <th></th>\n",
       "      <th>Date</th>\n",
       "      <th>Product</th>\n",
       "      <th>Quantity</th>\n",
       "      <th>Price</th>\n",
       "      <th>Total</th>\n",
       "    </tr>\n",
       "  </thead>\n",
       "  <tbody>\n",
       "    <tr>\n",
       "      <th>0</th>\n",
       "      <td>2023-01-01</td>\n",
       "      <td>Apples</td>\n",
       "      <td>10</td>\n",
       "      <td>0.5</td>\n",
       "      <td>0.0</td>\n",
       "    </tr>\n",
       "    <tr>\n",
       "      <th>1</th>\n",
       "      <td>2023-01-02</td>\n",
       "      <td>Bananas</td>\n",
       "      <td>5</td>\n",
       "      <td>0.2</td>\n",
       "      <td>0.0</td>\n",
       "    </tr>\n",
       "    <tr>\n",
       "      <th>2</th>\n",
       "      <td>2023-01-03</td>\n",
       "      <td>Oranges</td>\n",
       "      <td>8</td>\n",
       "      <td>0.6</td>\n",
       "      <td>0.0</td>\n",
       "    </tr>\n",
       "    <tr>\n",
       "      <th>3</th>\n",
       "      <td>2023-02-01</td>\n",
       "      <td>Apples</td>\n",
       "      <td>12</td>\n",
       "      <td>0.5</td>\n",
       "      <td>0.0</td>\n",
       "    </tr>\n",
       "    <tr>\n",
       "      <th>4</th>\n",
       "      <td>2023-02-05</td>\n",
       "      <td>Bananas</td>\n",
       "      <td>7</td>\n",
       "      <td>0.2</td>\n",
       "      <td>0.0</td>\n",
       "    </tr>\n",
       "    <tr>\n",
       "      <th>5</th>\n",
       "      <td>2023-03-10</td>\n",
       "      <td>Apples</td>\n",
       "      <td>6</td>\n",
       "      <td>0.5</td>\n",
       "      <td>0.0</td>\n",
       "    </tr>\n",
       "    <tr>\n",
       "      <th>6</th>\n",
       "      <td>2023-03-15</td>\n",
       "      <td>Bananas</td>\n",
       "      <td>9</td>\n",
       "      <td>0.2</td>\n",
       "      <td>0.0</td>\n",
       "    </tr>\n",
       "  </tbody>\n",
       "</table>\n",
       "</div>"
      ],
      "text/plain": [
       "        Date  Product  Quantity  Price  Total\n",
       "0 2023-01-01   Apples        10    0.5    0.0\n",
       "1 2023-01-02  Bananas         5    0.2    0.0\n",
       "2 2023-01-03  Oranges         8    0.6    0.0\n",
       "3 2023-02-01   Apples        12    0.5    0.0\n",
       "4 2023-02-05  Bananas         7    0.2    0.0\n",
       "5 2023-03-10   Apples         6    0.5    0.0\n",
       "6 2023-03-15  Bananas         9    0.2    0.0"
      ]
     },
     "execution_count": 143,
     "metadata": {},
     "output_type": "execute_result"
    }
   ],
   "source": [
    "df"
   ]
  },
  {
   "cell_type": "code",
   "execution_count": 157,
   "id": "0f54a32b-ee5c-46cb-b1ed-1546f2d197d4",
   "metadata": {},
   "outputs": [
    {
     "data": {
      "text/html": [
       "<div>\n",
       "<style scoped>\n",
       "    .dataframe tbody tr th:only-of-type {\n",
       "        vertical-align: middle;\n",
       "    }\n",
       "\n",
       "    .dataframe tbody tr th {\n",
       "        vertical-align: top;\n",
       "    }\n",
       "\n",
       "    .dataframe thead th {\n",
       "        text-align: right;\n",
       "    }\n",
       "</style>\n",
       "<table border=\"1\" class=\"dataframe\">\n",
       "  <thead>\n",
       "    <tr style=\"text-align: right;\">\n",
       "      <th></th>\n",
       "      <th>Date</th>\n",
       "      <th>Product</th>\n",
       "      <th>Quantity</th>\n",
       "      <th>Price</th>\n",
       "      <th>Total</th>\n",
       "      <th>Month</th>\n",
       "    </tr>\n",
       "  </thead>\n",
       "  <tbody>\n",
       "    <tr>\n",
       "      <th>0</th>\n",
       "      <td>2023-01-01</td>\n",
       "      <td>Apples</td>\n",
       "      <td>10</td>\n",
       "      <td>0.5</td>\n",
       "      <td>5.0</td>\n",
       "      <td>2023-01</td>\n",
       "    </tr>\n",
       "    <tr>\n",
       "      <th>1</th>\n",
       "      <td>2023-01-02</td>\n",
       "      <td>Bananas</td>\n",
       "      <td>5</td>\n",
       "      <td>0.2</td>\n",
       "      <td>1.0</td>\n",
       "      <td>2023-01</td>\n",
       "    </tr>\n",
       "    <tr>\n",
       "      <th>2</th>\n",
       "      <td>2023-01-03</td>\n",
       "      <td>Oranges</td>\n",
       "      <td>8</td>\n",
       "      <td>0.6</td>\n",
       "      <td>4.8</td>\n",
       "      <td>2023-01</td>\n",
       "    </tr>\n",
       "    <tr>\n",
       "      <th>3</th>\n",
       "      <td>2023-02-01</td>\n",
       "      <td>Apples</td>\n",
       "      <td>12</td>\n",
       "      <td>0.5</td>\n",
       "      <td>6.0</td>\n",
       "      <td>2023-02</td>\n",
       "    </tr>\n",
       "    <tr>\n",
       "      <th>4</th>\n",
       "      <td>2023-02-05</td>\n",
       "      <td>Bananas</td>\n",
       "      <td>7</td>\n",
       "      <td>0.2</td>\n",
       "      <td>1.4</td>\n",
       "      <td>2023-02</td>\n",
       "    </tr>\n",
       "    <tr>\n",
       "      <th>5</th>\n",
       "      <td>2023-03-10</td>\n",
       "      <td>Apples</td>\n",
       "      <td>6</td>\n",
       "      <td>0.5</td>\n",
       "      <td>3.0</td>\n",
       "      <td>2023-03</td>\n",
       "    </tr>\n",
       "    <tr>\n",
       "      <th>6</th>\n",
       "      <td>2023-03-15</td>\n",
       "      <td>Bananas</td>\n",
       "      <td>9</td>\n",
       "      <td>0.2</td>\n",
       "      <td>1.8</td>\n",
       "      <td>2023-03</td>\n",
       "    </tr>\n",
       "  </tbody>\n",
       "</table>\n",
       "</div>"
      ],
      "text/plain": [
       "        Date  Product  Quantity  Price  Total    Month\n",
       "0 2023-01-01   Apples        10    0.5    5.0  2023-01\n",
       "1 2023-01-02  Bananas         5    0.2    1.0  2023-01\n",
       "2 2023-01-03  Oranges         8    0.6    4.8  2023-01\n",
       "3 2023-02-01   Apples        12    0.5    6.0  2023-02\n",
       "4 2023-02-05  Bananas         7    0.2    1.4  2023-02\n",
       "5 2023-03-10   Apples         6    0.5    3.0  2023-03\n",
       "6 2023-03-15  Bananas         9    0.2    1.8  2023-03"
      ]
     },
     "execution_count": 157,
     "metadata": {},
     "output_type": "execute_result"
    }
   ],
   "source": [
    "#Calculate a new column (Total) based on the price and quantity.\n",
    "df['Total'] = df['Quantity'] * df['Price']\n",
    "df"
   ]
  },
  {
   "cell_type": "code",
   "execution_count": 159,
   "id": "fa436456-5d93-47be-9255-7cbb19cca82a",
   "metadata": {},
   "outputs": [
    {
     "data": {
      "image/png": "[encoded data removed]",
      "text/plain": [
       "<Figure size 640x480 with 1 Axes>"
      ]
     },
     "metadata": {},
     "output_type": "display_data"
    },
    {
     "data": {
      "image/png": "[encoded data removed]",
      "text/plain": [
       "<Figure size 640x480 with 1 Axes>"
      ]
     },
     "metadata": {},
     "output_type": "display_data"
    },
    {
     "data": {
      "image/png": "[encoded data removed]",
      "text/plain": [
       "<Figure size 640x480 with 1 Axes>"
      ]
     },
     "metadata": {},
     "output_type": "display_data"
    }
   ],
   "source": [
    "#Create a visualisation that shows the total sales per product using a bar chart.\n",
    "import matplotlib.pyplot as plt\n",
    "# product_total_sale = df['Quantity'].groupby(df['Product'])\n",
    "# x = product_total_sale.sum()\n",
    "product_total_sale = df.groupby('Product')['Quantity'].sum()\n",
    "#x.plot(kind='barh')\n",
    "product_total_sale.plot(kind='bar')\n",
    "plt.savefig('shopping_bar.png')\n",
    "plt.show()\n",
    "\n",
    "df['Month'] = df['Date'].dt.to_period('M')\n",
    "#plt.title('Total sales over time')\n",
    "#ggroup = df['Total'].groupby(df['Month'])\n",
    "Monthly_sales = df.groupby('Month')['Total'].sum()\n",
    "#x=ggroup.sum()\n",
    "Monthly_sales.plot(kind='line')\n",
    "plt.savefig('shopping_line.png')\n",
    "plt.show()\n",
    "\n",
    "\n",
    "x_date= df['Date']\n",
    "y_quantity = df['Quantity']\n",
    "plt.plot(x_date,y_quantity)\n",
    "plt.show()\n"
   ]
  },
  {
   "cell_type": "code",
   "execution_count": null,
   "id": "c772eb6c-74a5-4acb-ba38-337fc428e50f",
   "metadata": {},
   "outputs": [],
   "source": [
    "\n",
    "\n",
    "Let's take a problem statement: Load shopping data in pandas and convert that into a table\n",
    "\n"
   ]
  },
  {
   "cell_type": "code",
   "execution_count": 35,
   "id": "6ceb7d04-76d5-40aa-be8a-bd23837e1c53",
   "metadata": {},
   "outputs": [],
   "source": [
    "# Step1: Load the dataset\n",
    "import pandas as pd\n",
    "df = pd.read_csv('shopping.csv', parse_dates=['Date'],dayfirst = True)"
   ]
  },
  {
   "cell_type": "code",
   "execution_count": 37,
   "id": "00dc7ed8-40f7-4432-a9d9-41b3edadcdd8",
   "metadata": {},
   "outputs": [],
   "source": [
    "from sqlalchemy import create_engine"
   ]
  },
  {
   "cell_type": "code",
   "execution_count": 39,
   "id": "925de305-7305-4072-8841-1fa98e00afeb",
   "metadata": {},
   "outputs": [],
   "source": [
    "engine = create_engine('sqlite:///BookInfo.db')"
   ]
  },
  {
   "cell_type": "code",
   "execution_count": 41,
   "id": "9fb2093a-99d7-4f87-968f-ea240a0d38a9",
   "metadata": {},
   "outputs": [
    {
     "data": {
      "text/plain": [
       "7"
      ]
     },
     "execution_count": 41,
     "metadata": {},
     "output_type": "execute_result"
    }
   ],
   "source": [
    "df.to_sql('shopping', engine)"
   ]
  },
  {
   "cell_type": "code",
   "execution_count": 43,
   "id": "eafa17b4-daab-4aac-9a85-cd4bad582211",
   "metadata": {},
   "outputs": [
    {
     "data": {
      "text/html": [
       "<div>\n",
       "<style scoped>\n",
       "    .dataframe tbody tr th:only-of-type {\n",
       "        vertical-align: middle;\n",
       "    }\n",
       "\n",
       "    .dataframe tbody tr th {\n",
       "        vertical-align: top;\n",
       "    }\n",
       "\n",
       "    .dataframe thead th {\n",
       "        text-align: right;\n",
       "    }\n",
       "</style>\n",
       "<table border=\"1\" class=\"dataframe\">\n",
       "  <thead>\n",
       "    <tr style=\"text-align: right;\">\n",
       "      <th></th>\n",
       "      <th>index</th>\n",
       "      <th>Date</th>\n",
       "      <th>Product</th>\n",
       "      <th>Quantity</th>\n",
       "      <th>Price</th>\n",
       "      <th>Total</th>\n",
       "    </tr>\n",
       "  </thead>\n",
       "  <tbody>\n",
       "    <tr>\n",
       "      <th>0</th>\n",
       "      <td>0</td>\n",
       "      <td>2023-01-01</td>\n",
       "      <td>Apples</td>\n",
       "      <td>10</td>\n",
       "      <td>0.5</td>\n",
       "      <td>NaN</td>\n",
       "    </tr>\n",
       "    <tr>\n",
       "      <th>1</th>\n",
       "      <td>1</td>\n",
       "      <td>2023-01-02</td>\n",
       "      <td>Bananas</td>\n",
       "      <td>5</td>\n",
       "      <td>0.2</td>\n",
       "      <td>NaN</td>\n",
       "    </tr>\n",
       "    <tr>\n",
       "      <th>2</th>\n",
       "      <td>2</td>\n",
       "      <td>2023-01-03</td>\n",
       "      <td>Oranges</td>\n",
       "      <td>8</td>\n",
       "      <td>0.6</td>\n",
       "      <td>NaN</td>\n",
       "    </tr>\n",
       "    <tr>\n",
       "      <th>3</th>\n",
       "      <td>3</td>\n",
       "      <td>2023-02-01</td>\n",
       "      <td>Apples</td>\n",
       "      <td>12</td>\n",
       "      <td>0.5</td>\n",
       "      <td>NaN</td>\n",
       "    </tr>\n",
       "    <tr>\n",
       "      <th>4</th>\n",
       "      <td>4</td>\n",
       "      <td>2023-02-05</td>\n",
       "      <td>Bananas</td>\n",
       "      <td>7</td>\n",
       "      <td>0.2</td>\n",
       "      <td>NaN</td>\n",
       "    </tr>\n",
       "    <tr>\n",
       "      <th>5</th>\n",
       "      <td>5</td>\n",
       "      <td>2023-03-10</td>\n",
       "      <td>Apples</td>\n",
       "      <td>6</td>\n",
       "      <td>0.5</td>\n",
       "      <td>NaN</td>\n",
       "    </tr>\n",
       "    <tr>\n",
       "      <th>6</th>\n",
       "      <td>6</td>\n",
       "      <td>2023-03-15</td>\n",
       "      <td>Bananas</td>\n",
       "      <td>9</td>\n",
       "      <td>0.2</td>\n",
       "      <td>NaN</td>\n",
       "    </tr>\n",
       "  </tbody>\n",
       "</table>\n",
       "</div>"
      ],
      "text/plain": [
       "   index       Date  Product  Quantity  Price  Total\n",
       "0      0 2023-01-01   Apples        10    0.5    NaN\n",
       "1      1 2023-01-02  Bananas         5    0.2    NaN\n",
       "2      2 2023-01-03  Oranges         8    0.6    NaN\n",
       "3      3 2023-02-01   Apples        12    0.5    NaN\n",
       "4      4 2023-02-05  Bananas         7    0.2    NaN\n",
       "5      5 2023-03-10   Apples         6    0.5    NaN\n",
       "6      6 2023-03-15  Bananas         9    0.2    NaN"
      ]
     },
     "execution_count": 43,
     "metadata": {},
     "output_type": "execute_result"
    }
   ],
   "source": [
    "pd.read_sql('shopping', engine)"
   ]
  },
  {
   "cell_type": "code",
   "execution_count": 53,
   "id": "543825c8-7e3a-4905-afd7-569f623c80fa",
   "metadata": {},
   "outputs": [
    {
     "name": "stdout",
     "output_type": "stream",
     "text": [
      "[(0, '2023-01-01 00:00:00.000000', 'Apples', 10, 0.5, None), (1, '2023-01-02 00:00:00.000000', 'Bananas', 5, 0.2, None), (2, '2023-01-03 00:00:00.000000', 'Oranges', 8, 0.6, None), (3, '2023-02-01 00:00:00.000000', 'Apples', 12, 0.5, None), (4, '2023-02-05 00:00:00.000000', 'Bananas', 7, 0.2, None), (5, '2023-03-10 00:00:00.000000', 'Apples', 6, 0.5, None), (6, '2023-03-15 00:00:00.000000', 'Bananas', 9, 0.2, None)]\n"
     ]
    }
   ],
   "source": [
    "import sqlite3\n",
    "with sqlite3.connect(\"BookInfo.db\") as db:\n",
    "    cursor = db.cursor()\n",
    "\n",
    "cursor.execute(\"SELECT * FROM shopping\")\n",
    "print(cursor.fetchall())"
   ]
  },
  {
   "cell_type": "code",
   "execution_count": null,
   "id": "26c657ac-fa78-4483-aba0-2fd9c5ecdcd3",
   "metadata": {},
   "outputs": [],
   "source": [
    "#Alter Table Command Syntax\n",
    "cursor.execute(\"Alter table Books ADD Column Genre TEXT NOT NULL default A\")"
   ]
  },
  {
   "cell_type": "code",
   "execution_count": null,
   "id": "c319773f-b4d1-4fc5-84fe-53a4356de85e",
   "metadata": {},
   "outputs": [],
   "source": [
    "#Update Column\n",
    "cursor.execute(\"Update Books SET Genre = 'Programming' where Book_ID = 1\")\n",
    "cursor.execute(\"Update Books SET Genre = 'Data Science' where Book_ID = 2\")"
   ]
  },
  {
   "cell_type": "code",
   "execution_count": null,
   "id": "b819cce3-f140-40a6-8d0f-30304667bd42",
   "metadata": {},
   "outputs": [],
   "source": [
    "# Delete from member on Phone number\n",
    "cursor.execute(\"Delete From Members where Phone_Number = '8975743' \")"
   ]
  },
  {
   "cell_type": "code",
   "execution_count": null,
   "id": "0a53cca4-142f-4582-b109-07680a31e10a",
   "metadata": {},
   "outputs": [],
   "source": []
  },
  {
   "cell_type": "code",
   "execution_count": 123,
   "id": "aab55dbe-be54-4f2b-af64-9149c51c8280",
   "metadata": {},
   "outputs": [
    {
     "data": {
      "text/plain": [
       "<Axes: >"
      ]
     },
     "execution_count": 123,
     "metadata": {},
     "output_type": "execute_result"
    },
    {
     "data": {
      "image/png": "[encoded data removed]",
      "text/plain": [
       "<Figure size 640x480 with 1 Axes>"
      ]
     },
     "metadata": {},
     "output_type": "display_data"
    }
   ],
   "source": [
    "import pandas as pd\n",
    "import matplotlib.pyplot as plt\n",
    "df= pd.read_csv('tAPP5_company_sales_data.csv')\n",
    "df.iloc[2:6,1:6].plot()\n",
    "#df[2:6,:].plot()\n",
    "# a = df[\n",
    "# a = df[df['month_number'].between(2,6)]\n",
    "# a.plot()"
   ]
  },
  {
   "cell_type": "code",
   "execution_count": null,
   "id": "3f89ba77-572b-4207-8000-dc0e446bc7e1",
   "metadata": {},
   "outputs": [],
   "source": []
  }
 ],
 "metadata": {
  "kernelspec": {
   "display_name": "Python 3 (ipykernel)",
   "language": "python",
   "name": "python3"
  },
  "language_info": {
   "codemirror_mode": {
    "name": "ipython",
    "version": 3
   },
   "file_extension": ".py",
   "mimetype": "text/x-python",
   "name": "python",
   "nbconvert_exporter": "python",
   "pygments_lexer": "ipython3",
   "version": "3.12.4"
  }
 },
 "nbformat": 4,
 "nbformat_minor": 5
}
